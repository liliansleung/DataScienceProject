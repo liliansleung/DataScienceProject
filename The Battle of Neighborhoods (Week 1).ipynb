{
    "cells": [
        {
            "cell_type": "markdown",
            "metadata": {
                "collapsed": true
            },
            "source": "# Capstone Project - The Battle of Neighborhoods (Week 1)"
        },
        {
            "cell_type": "markdown",
            "metadata": {},
            "source": "### A description of the problem and a discussion of the background\n"
        },
        {
            "cell_type": "markdown",
            "metadata": {},
            "source": "New York City is one of the most popular city in the United State with a population of 8,398,748 distributed over about 302.6 square miles. It is the most densely popular major city. New York City's food culture inspired by their immigrant history; from central, eastern European to Asian immigrants who have brought different authentic cuisines into the city. There aren't just traditional restaurants but thousands of mobile food vendors which is what also makes New York City so famous. So, if someone is looking to open a restaurant in New York, where should they open it to minimize the competition but maximize the profit? The goal is to locate and recommend to the client which neighborhood of New York city will be the best choice to start a restaurant as well as to understand the rationale of the recommendations made."
        },
        {
            "cell_type": "markdown",
            "metadata": {},
            "source": "### A description of the data and how it will be used to solve the problem"
        },
        {
            "cell_type": "markdown",
            "metadata": {},
            "source": "I will use the Foursquare API to explore neighborhoods in New York City. I will need a dataset that contains the 5 boroughs, the neighborhoods, and the latitude and logitude coordinates of each neighborhood: https://geo.nyu.edu/catalog/nyu_2451_34572"
        },
        {
            "cell_type": "markdown",
            "metadata": {},
            "source": "\nI would also use the data from below to study the population of New York City and the different cuisine that is offered in the city. \nhttps://en.wikipedia.org/wiki/New_York_City\nhttps://en.wikipedia.org/wiki/Cuisine_of_New_York_City"
        },
        {
            "cell_type": "code",
            "execution_count": null,
            "metadata": {},
            "outputs": [],
            "source": ""
        }
    ],
    "metadata": {
        "kernelspec": {
            "display_name": "Python 3.6",
            "language": "python",
            "name": "python3"
        },
        "language_info": {
            "codemirror_mode": {
                "name": "ipython",
                "version": 3
            },
            "file_extension": ".py",
            "mimetype": "text/x-python",
            "name": "python",
            "nbconvert_exporter": "python",
            "pygments_lexer": "ipython3",
            "version": "3.6.9"
        }
    },
    "nbformat": 4,
    "nbformat_minor": 1
}