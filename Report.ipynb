{
    "cells": [
        {
            "cell_type": "markdown",
            "metadata": {},
            "source": "# Introudction "
        },
        {
            "cell_type": "markdown",
            "metadata": {},
            "source": "New York City is one of the most popular city in the United State with a population of 8,398,748 distributed over about 302.6 square miles. It is the most densely popular major city. New York City's food culture inspired by their immigrant history; from central, eastern European to Asian immigrants who have brought different authentic cuisines into the city. There aren't just traditional restaurants but thousands of mobile food vendors which is what also makes New York City so famous. So, if someone is looking to open a restaurant in New York, where should they open it to minimize the competition but maximize the profit? The goal is to locate and recommend to the client which neighborhood of New York city will be the best choice to start a restaurant as well as to understand the rationale of the recommendations made."
        },
        {
            "cell_type": "markdown",
            "metadata": {},
            "source": "# Data"
        },
        {
            "cell_type": "markdown",
            "metadata": {},
            "source": "Data 1 - Fouresquare API \nI will use the Foursquare API to explore neighborhoods in New York City. I will need a dataset that contains the 5 boroughs, the neighborhoods, and the latitude and logitude coordinates of each neighborhood: https://geo.nyu.edu/catalog/nyu_2451_34572\n\nData 2 - Wikipedia \nI would also use the data from below to study the population of New York City and the different cuisine that is offered in the city. https://en.wikipedia.org/wiki/New_York_City https://en.wikipedia.org/wiki/Cuisine_of_New_York_City\n\nData 3 - Fouresquare API \nI will again use Foursquare API to explore different venues information for each neighborhood."
        },
        {
            "cell_type": "markdown",
            "metadata": {},
            "source": "# Methodology"
        },
        {
            "cell_type": "markdown",
            "metadata": {},
            "source": "New York City neighborhood has a total of 5 boroughs and 306 neighborhoods. In this project, the first part is the clustering of Manhattan and Brooklyn. The second part is the Bronx, Queens, and Staten Island. \n\nWe first load and explore the data from a json file that has with all the New York City geographical coordinate data. Then transfer the data of nested python dictionaries into a pandas data frame. The data frame contains the geographical coordinate of NYC neighborhoods and will be used to get the venue's data from Foursquare. Lastly, we used geopy and folium libraries to create a map of NYC with neighborhoods superimposed on top. \n\nThe Foursquare API will help to explore more about NYC. Using the explore function, it will list the most common venue categories in each neighborhood. I set the limit to 5. It listed as the first common venue to the 5th common venue. We are going to use the data to analyze and decide what kind of restruarnat should be open in each different neighborhood. "
        },
        {
            "cell_type": "markdown",
            "metadata": {},
            "source": "# Results"
        },
        {
            "cell_type": "markdown",
            "metadata": {},
            "source": "The result of the table has shown the top 5 most common venus in each neighborhood. Given this data, we can apply it to our analysis. The table is shown below.\n\n\nThe second table has shown that the most common venue in NYC is the Italian restaurant, Pizza, and Bar. \n\n "
        },
        {
            "cell_type": "markdown",
            "metadata": {},
            "source": "# Discussion "
        },
        {
            "cell_type": "markdown",
            "metadata": {
                "collapsed": true
            },
            "source": "To stand out in a city, it is helpful to understand what is the trend and what are they missing. We want to minimize competition between similar venues. So, we are going to use the data to help us out. Given that NYC top 10 restaurant venue is Italian, Pizza, Bar, Deli, Donut shop, Chinese Restaurant, Coffee shop, Latin American, and the Caribbean. We can conclude that NYC is missing a variety of Asian restaurants. Therefore, if you want to open a restaurant in NYC, I would recommend trying out for different Asian cuisines such as Korean, Japanese, Vietnamese, or Thai.     "
        },
        {
            "cell_type": "markdown",
            "metadata": {},
            "source": "# Conclusion"
        },
        {
            "cell_type": "markdown",
            "metadata": {},
            "source": "The data that I used has a little bit of history and is very limited. So my analysis might be incosistent. As one of the most popular cities in the United State. I am surprised there is very little Asian restaurant choice that is given. Of course, I am not surprised about the Italian reautrant, pizza, bar, donut and deli shop as the top 5 choices as NYC is known for this type of food. I think if I can assess more recent data, it will help me with the research. "
        },
        {
            "cell_type": "code",
            "execution_count": null,
            "metadata": {},
            "outputs": [],
            "source": ""
        }
    ],
    "metadata": {
        "kernelspec": {
            "display_name": "Python 3.6",
            "language": "python",
            "name": "python3"
        },
        "language_info": {
            "codemirror_mode": {
                "name": "ipython",
                "version": 3
            },
            "file_extension": ".py",
            "mimetype": "text/x-python",
            "name": "python",
            "nbconvert_exporter": "python",
            "pygments_lexer": "ipython3",
            "version": "3.6.9"
        }
    },
    "nbformat": 4,
    "nbformat_minor": 1
}